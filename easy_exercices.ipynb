{
 "cells": [
  {
   "cell_type": "markdown",
   "metadata": {},
   "source": [
    "# Easy exercices for training"
   ]
  },
  {
   "cell_type": "markdown",
   "metadata": {},
   "source": [
    "### Recursive Factorial\n",
    "\n",
    "Welcome to the Factorial Calculation Lab! In this lab, you will implement a function named factorial() in Python. Your task is to calculate the factorial of a given positive integer using a recursive approach."
   ]
  },
  {
   "cell_type": "code",
   "execution_count": 2,
   "metadata": {},
   "outputs": [
    {
     "name": "stdout",
     "output_type": "stream",
     "text": [
      "5! =  120\n"
     ]
    }
   ],
   "source": [
    "def factorial():\n",
    "\n",
    "    num = int(input('Digit a integer number: '))\n",
    "\n",
    "    fact = 1\n",
    "\n",
    "    for i in range(num):\n",
    "        fact *= num - i\n",
    "\n",
    "    return print(str(num) + '! = ', str(fact))\n",
    "\n",
    "\n",
    "factorial()"
   ]
  }
 ],
 "metadata": {
  "kernelspec": {
   "display_name": "ifscube",
   "language": "python",
   "name": "python3"
  },
  "language_info": {
   "codemirror_mode": {
    "name": "ipython",
    "version": 3
   },
   "file_extension": ".py",
   "mimetype": "text/x-python",
   "name": "python",
   "nbconvert_exporter": "python",
   "pygments_lexer": "ipython3",
   "version": "3.7.12"
  }
 },
 "nbformat": 4,
 "nbformat_minor": 2
}
